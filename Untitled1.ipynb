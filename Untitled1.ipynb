{
  "nbformat": 4,
  "nbformat_minor": 0,
  "metadata": {
    "colab": {
      "provenance": []
    },
    "kernelspec": {
      "name": "python3",
      "display_name": "Python 3"
    },
    "language_info": {
      "name": "python"
    }
  },
  "cells": [
    {
      "cell_type": "markdown",
      "source": [
        "import library"
      ],
      "metadata": {
        "id": "okUTcQZB4rew"
      }
    },
    {
      "cell_type": "code",
      "source": [
        "import pandas as pd\n",
        "import numpy as np\n",
        "import re\n",
        "import nltk\n",
        "nltk.download('stopwords')\n",
        "from nltk.corpus import stopwords\n",
        "\n",
        "from sklearn.model_selection import train_test_split\n",
        "from tensorflow.keras.preprocessing.text import Tokenizer\n",
        "from tensorflow.keras.preprocessing.sequence import pad_sequences\n",
        "from tensorflow.keras.models import Sequential\n",
        "from tensorflow.keras.layers import Embedding, LSTM, Dense\n",
        "from sklearn.metrics import classification_report\n"
      ],
      "metadata": {
        "colab": {
          "base_uri": "https://localhost:8080/"
        },
        "id": "opvzol7l4woE",
        "outputId": "30342186-eb63-40d6-c270-cfe5e82bd908"
      },
      "execution_count": 1,
      "outputs": [
        {
          "output_type": "stream",
          "name": "stderr",
          "text": [
            "[nltk_data] Downloading package stopwords to /root/nltk_data...\n",
            "[nltk_data]   Unzipping corpora/stopwords.zip.\n"
          ]
        }
      ]
    },
    {
      "cell_type": "markdown",
      "source": [],
      "metadata": {
        "id": "qxnYR8WR5BG8"
      }
    },
    {
      "cell_type": "markdown",
      "source": [
        "data set"
      ],
      "metadata": {
        "id": "oM73XC9h5zwr"
      }
    },
    {
      "cell_type": "code",
      "source": [
        "import pandas as pd\n",
        "from datetime import timedelta, datetime\n",
        "import random\n",
        "\n",
        "def generate_sample_data(n=200):\n",
        "    data = []\n",
        "    regions = ['Jakarta', 'Surabaya', 'Bandung', 'Medan', 'Yogyakarta']\n",
        "    delivery_types = ['Standard', 'Express', 'Same Day']\n",
        "\n",
        "    for i in range(n):\n",
        "        order_id = f\"A{1000+i}\"\n",
        "        order_date = datetime(2025, 6, random.randint(1, 20))\n",
        "        ship_date = order_date + timedelta(days=random.randint(0, 2))\n",
        "        delivery_type = random.choice(delivery_types)\n",
        "        distance = random.randint(1, 1500)\n",
        "        weight = round(random.uniform(0.2, 5.0), 1)\n",
        "        region = random.choice(regions)\n",
        "\n",
        "        # tentukan delivery_date\n",
        "        if delivery_type == \"Same Day\":\n",
        "            delivery_date = ship_date + timedelta(days=random.choice([0, 1]))\n",
        "        elif delivery_type == \"Express\":\n",
        "            delivery_date = ship_date + timedelta(days=random.choice([1, 2, 3]))\n",
        "        else:\n",
        "            delivery_date = ship_date + timedelta(days=random.choice([2, 3, 4, 5, 6]))\n",
        "\n",
        "        # hitung keterlambatan\n",
        "        if (delivery_type == \"Same Day\" and (delivery_date - ship_date).days > 0) or \\\n",
        "           (delivery_type == \"Express\" and (delivery_date - ship_date).days > 2) or \\\n",
        "           (delivery_type == \"Standard\" and (delivery_date - ship_date).days > 4):\n",
        "            delayed = 1\n",
        "        else:\n",
        "            delayed = 0\n",
        "\n",
        "        data.append([order_id, order_date.date(), ship_date.date(), delivery_date.date(),\n",
        "                     delivery_type, distance, weight, region, delayed])\n",
        "\n",
        "    return pd.DataFrame(data, columns=[\n",
        "        'order_id', 'order_date', 'ship_date', 'delivery_date',\n",
        "        'delivery_type', 'distance_km', 'product_weight_kg', 'customer_region', 'delayed'\n",
        "    ])\n",
        "\n",
        "# Generate and save\n",
        "df = generate_sample_data(200)\n",
        "df.to_csv('shipping_delay_prediction.csv', index=False)\n"
      ],
      "metadata": {
        "id": "kG2zUXyd52De"
      },
      "execution_count": 2,
      "outputs": []
    },
    {
      "cell_type": "markdown",
      "source": [
        "kolom teks"
      ],
      "metadata": {
        "id": "yHTVnN4V6FwM"
      }
    },
    {
      "cell_type": "code",
      "source": [
        "def generate_note(row):\n",
        "    return f\"Pengiriman {row['delivery_type']} ke {row['customer_region']} dengan jarak {row['distance_km']} km dan berat {row['product_weight_kg']} kg.\"\n",
        "\n",
        "df['shipping_note'] = df.apply(generate_note, axis=1)\n"
      ],
      "metadata": {
        "id": "bzoEID9h6LbI"
      },
      "execution_count": 3,
      "outputs": []
    },
    {
      "cell_type": "markdown",
      "source": [
        "processing teks"
      ],
      "metadata": {
        "id": "8KhOgeBQ6Pmu"
      }
    },
    {
      "cell_type": "code",
      "source": [
        "stop_words = set(stopwords.words('indonesian'))\n",
        "\n",
        "def clean_text(text):\n",
        "    text = text.lower()\n",
        "    text = re.sub(r'[^a-zA-Z\\s]', '', text)\n",
        "    return ' '.join([word for word in text.split() if word not in stop_words])\n",
        "\n",
        "df['clean_note'] = df['shipping_note'].apply(clean_text)\n"
      ],
      "metadata": {
        "id": "busiYswD6R_h"
      },
      "execution_count": 4,
      "outputs": []
    },
    {
      "cell_type": "markdown",
      "source": [
        "Tokenisasi dan Padding"
      ],
      "metadata": {
        "id": "imzJDWmN6ZGJ"
      }
    },
    {
      "cell_type": "code",
      "source": [
        "tokenizer = Tokenizer(num_words=10000, oov_token=\"<OOV>\")\n",
        "tokenizer.fit_on_texts(df['clean_note'])\n",
        "sequences = tokenizer.texts_to_sequences(df['clean_note'])\n",
        "padded = pad_sequences(sequences, maxlen=20)\n"
      ],
      "metadata": {
        "id": "kFP-mkeu6b9y"
      },
      "execution_count": 5,
      "outputs": []
    },
    {
      "cell_type": "markdown",
      "source": [
        "Split Data"
      ],
      "metadata": {
        "id": "mioYXg486gpL"
      }
    },
    {
      "cell_type": "code",
      "source": [
        "X_train, X_test, y_train, y_test = train_test_split(padded, df['delayed'], test_size=0.2, random_state=42)"
      ],
      "metadata": {
        "id": "Yh4g_6o06uNp"
      },
      "execution_count": 6,
      "outputs": []
    },
    {
      "cell_type": "markdown",
      "source": [
        "Bangun Model LSTM"
      ],
      "metadata": {
        "id": "ktzK4XeZ6y5B"
      }
    },
    {
      "cell_type": "code",
      "source": [
        "model = Sequential([\n",
        "    Embedding(input_dim=10000, output_dim=16, input_length=20),\n",
        "    LSTM(64),\n",
        "    Dense(1, activation='sigmoid')\n",
        "])\n",
        "\n",
        "model.compile(loss='binary_crossentropy', optimizer='adam', metrics=['accuracy'])\n",
        "model.summary()"
      ],
      "metadata": {
        "colab": {
          "base_uri": "https://localhost:8080/",
          "height": 277
        },
        "id": "yB5Qk7f960Du",
        "outputId": "60c4c812-5ace-4991-c8cd-4df8071adea0"
      },
      "execution_count": 7,
      "outputs": [
        {
          "output_type": "stream",
          "name": "stderr",
          "text": [
            "/usr/local/lib/python3.11/dist-packages/keras/src/layers/core/embedding.py:90: UserWarning: Argument `input_length` is deprecated. Just remove it.\n",
            "  warnings.warn(\n"
          ]
        },
        {
          "output_type": "display_data",
          "data": {
            "text/plain": [
              "\u001b[1mModel: \"sequential\"\u001b[0m\n"
            ],
            "text/html": [
              "<pre style=\"white-space:pre;overflow-x:auto;line-height:normal;font-family:Menlo,'DejaVu Sans Mono',consolas,'Courier New',monospace\"><span style=\"font-weight: bold\">Model: \"sequential\"</span>\n",
              "</pre>\n"
            ]
          },
          "metadata": {}
        },
        {
          "output_type": "display_data",
          "data": {
            "text/plain": [
              "┏━━━━━━━━━━━━━━━━━━━━━━━━━━━━━━━━━┳━━━━━━━━━━━━━━━━━━━━━━━━┳━━━━━━━━━━━━━━━┓\n",
              "┃\u001b[1m \u001b[0m\u001b[1mLayer (type)                   \u001b[0m\u001b[1m \u001b[0m┃\u001b[1m \u001b[0m\u001b[1mOutput Shape          \u001b[0m\u001b[1m \u001b[0m┃\u001b[1m \u001b[0m\u001b[1m      Param #\u001b[0m\u001b[1m \u001b[0m┃\n",
              "┡━━━━━━━━━━━━━━━━━━━━━━━━━━━━━━━━━╇━━━━━━━━━━━━━━━━━━━━━━━━╇━━━━━━━━━━━━━━━┩\n",
              "│ embedding (\u001b[38;5;33mEmbedding\u001b[0m)           │ ?                      │   \u001b[38;5;34m0\u001b[0m (unbuilt) │\n",
              "├─────────────────────────────────┼────────────────────────┼───────────────┤\n",
              "│ lstm (\u001b[38;5;33mLSTM\u001b[0m)                     │ ?                      │   \u001b[38;5;34m0\u001b[0m (unbuilt) │\n",
              "├─────────────────────────────────┼────────────────────────┼───────────────┤\n",
              "│ dense (\u001b[38;5;33mDense\u001b[0m)                   │ ?                      │   \u001b[38;5;34m0\u001b[0m (unbuilt) │\n",
              "└─────────────────────────────────┴────────────────────────┴───────────────┘\n"
            ],
            "text/html": [
              "<pre style=\"white-space:pre;overflow-x:auto;line-height:normal;font-family:Menlo,'DejaVu Sans Mono',consolas,'Courier New',monospace\">┏━━━━━━━━━━━━━━━━━━━━━━━━━━━━━━━━━┳━━━━━━━━━━━━━━━━━━━━━━━━┳━━━━━━━━━━━━━━━┓\n",
              "┃<span style=\"font-weight: bold\"> Layer (type)                    </span>┃<span style=\"font-weight: bold\"> Output Shape           </span>┃<span style=\"font-weight: bold\">       Param # </span>┃\n",
              "┡━━━━━━━━━━━━━━━━━━━━━━━━━━━━━━━━━╇━━━━━━━━━━━━━━━━━━━━━━━━╇━━━━━━━━━━━━━━━┩\n",
              "│ embedding (<span style=\"color: #0087ff; text-decoration-color: #0087ff\">Embedding</span>)           │ ?                      │   <span style=\"color: #00af00; text-decoration-color: #00af00\">0</span> (unbuilt) │\n",
              "├─────────────────────────────────┼────────────────────────┼───────────────┤\n",
              "│ lstm (<span style=\"color: #0087ff; text-decoration-color: #0087ff\">LSTM</span>)                     │ ?                      │   <span style=\"color: #00af00; text-decoration-color: #00af00\">0</span> (unbuilt) │\n",
              "├─────────────────────────────────┼────────────────────────┼───────────────┤\n",
              "│ dense (<span style=\"color: #0087ff; text-decoration-color: #0087ff\">Dense</span>)                   │ ?                      │   <span style=\"color: #00af00; text-decoration-color: #00af00\">0</span> (unbuilt) │\n",
              "└─────────────────────────────────┴────────────────────────┴───────────────┘\n",
              "</pre>\n"
            ]
          },
          "metadata": {}
        },
        {
          "output_type": "display_data",
          "data": {
            "text/plain": [
              "\u001b[1m Total params: \u001b[0m\u001b[38;5;34m0\u001b[0m (0.00 B)\n"
            ],
            "text/html": [
              "<pre style=\"white-space:pre;overflow-x:auto;line-height:normal;font-family:Menlo,'DejaVu Sans Mono',consolas,'Courier New',monospace\"><span style=\"font-weight: bold\"> Total params: </span><span style=\"color: #00af00; text-decoration-color: #00af00\">0</span> (0.00 B)\n",
              "</pre>\n"
            ]
          },
          "metadata": {}
        },
        {
          "output_type": "display_data",
          "data": {
            "text/plain": [
              "\u001b[1m Trainable params: \u001b[0m\u001b[38;5;34m0\u001b[0m (0.00 B)\n"
            ],
            "text/html": [
              "<pre style=\"white-space:pre;overflow-x:auto;line-height:normal;font-family:Menlo,'DejaVu Sans Mono',consolas,'Courier New',monospace\"><span style=\"font-weight: bold\"> Trainable params: </span><span style=\"color: #00af00; text-decoration-color: #00af00\">0</span> (0.00 B)\n",
              "</pre>\n"
            ]
          },
          "metadata": {}
        },
        {
          "output_type": "display_data",
          "data": {
            "text/plain": [
              "\u001b[1m Non-trainable params: \u001b[0m\u001b[38;5;34m0\u001b[0m (0.00 B)\n"
            ],
            "text/html": [
              "<pre style=\"white-space:pre;overflow-x:auto;line-height:normal;font-family:Menlo,'DejaVu Sans Mono',consolas,'Courier New',monospace\"><span style=\"font-weight: bold\"> Non-trainable params: </span><span style=\"color: #00af00; text-decoration-color: #00af00\">0</span> (0.00 B)\n",
              "</pre>\n"
            ]
          },
          "metadata": {}
        }
      ]
    },
    {
      "cell_type": "markdown",
      "source": [
        "Latih Model"
      ],
      "metadata": {
        "id": "JK1vbObQ7FhE"
      }
    },
    {
      "cell_type": "code",
      "source": [
        "# Jika dataset tidak seimbang, tambahkan class_weight\n",
        "from sklearn.utils import class_weight\n",
        "\n",
        "# Hitung bobot kelas agar model memperhatikan kelas minoritas\n",
        "class_weights = class_weight.compute_class_weight(\n",
        "    class_weight='balanced',\n",
        "    classes=np.unique(y_train),\n",
        "    y=y_train\n",
        ")\n",
        "cw = dict(enumerate(class_weights))\n",
        "\n",
        "# Callback untuk menyimpan model terbaik\n",
        "from tensorflow.keras.callbacks import ModelCheckpoint, EarlyStopping\n",
        "\n",
        "checkpoint = ModelCheckpoint(\"best_model.h5\", save_best_only=True, monitor=\"val_loss\", mode=\"min\")\n",
        "earlystop = EarlyStopping(monitor=\"val_loss\", patience=3, restore_best_weights=True)\n",
        "\n",
        "# Melatih model dengan class weight dan callback\n",
        "history = model.fit(\n",
        "    X_train,\n",
        "    y_train,\n",
        "    epochs=10,  # Disarankan >5 agar hasil lebih stabil\n",
        "    validation_data=(X_test, y_test),\n",
        "    class_weight=cw,   # Optional, tapi penting kalau data tidak seimbang\n",
        "    callbacks=[checkpoint, earlystop],\n",
        "    verbose=1\n",
        ")\n"
      ],
      "metadata": {
        "colab": {
          "base_uri": "https://localhost:8080/"
        },
        "id": "ixKvNXm-7Gdp",
        "outputId": "06b83846-3e17-48c5-ff67-72f108a13cf4"
      },
      "execution_count": 11,
      "outputs": [
        {
          "output_type": "stream",
          "name": "stdout",
          "text": [
            "Epoch 1/10\n",
            "\u001b[1m1/5\u001b[0m \u001b[32m━━━━\u001b[0m\u001b[37m━━━━━━━━━━━━━━━━\u001b[0m \u001b[1m6s\u001b[0m 2s/step - accuracy: 0.6250 - loss: 0.7030"
          ]
        },
        {
          "output_type": "stream",
          "name": "stderr",
          "text": [
            "WARNING:absl:You are saving your model as an HDF5 file via `model.save()` or `keras.saving.save_model(model)`. This file format is considered legacy. We recommend using instead the native Keras format, e.g. `model.save('my_model.keras')` or `keras.saving.save_model(model, 'my_model.keras')`. \n"
          ]
        },
        {
          "output_type": "stream",
          "name": "stdout",
          "text": [
            "\b\b\b\b\b\b\b\b\b\b\b\b\b\b\b\b\b\b\b\b\b\b\b\b\b\b\b\b\b\b\b\b\b\b\b\b\b\b\b\b\b\b\b\b\b\b\b\b\b\b\b\b\b\b\b\b\b\b\b\b\b\b\b\b\b\b\b\b\b\r\u001b[1m5/5\u001b[0m \u001b[32m━━━━━━━━━━━━━━━━━━━━\u001b[0m\u001b[37m\u001b[0m \u001b[1m2s\u001b[0m 59ms/step - accuracy: 0.6082 - loss: 0.7138 - val_accuracy: 0.6750 - val_loss: 0.6480\n",
            "Epoch 2/10\n",
            "\u001b[1m5/5\u001b[0m \u001b[32m━━━━━━━━━━━━━━━━━━━━\u001b[0m\u001b[37m\u001b[0m \u001b[1m0s\u001b[0m 33ms/step - accuracy: 0.6126 - loss: 0.7028 - val_accuracy: 0.6750 - val_loss: 0.6587\n",
            "Epoch 3/10\n",
            "\u001b[1m5/5\u001b[0m \u001b[32m━━━━━━━━━━━━━━━━━━━━\u001b[0m\u001b[37m\u001b[0m \u001b[1m0s\u001b[0m 31ms/step - accuracy: 0.6425 - loss: 0.6794 - val_accuracy: 0.6750 - val_loss: 0.6672\n",
            "Epoch 4/10\n",
            "\u001b[1m5/5\u001b[0m \u001b[32m━━━━━━━━━━━━━━━━━━━━\u001b[0m\u001b[37m\u001b[0m \u001b[1m0s\u001b[0m 38ms/step - accuracy: 0.6069 - loss: 0.6967 - val_accuracy: 0.6750 - val_loss: 0.6738\n"
          ]
        }
      ]
    },
    {
      "cell_type": "markdown",
      "source": [
        "Evaluasi"
      ],
      "metadata": {
        "id": "75-_e48N7QPO"
      }
    },
    {
      "cell_type": "code",
      "source": [
        "from sklearn.metrics import classification_report, confusion_matrix, accuracy_score\n",
        "import numpy as np\n",
        "import seaborn as sns\n",
        "import matplotlib.pyplot as plt\n",
        "\n",
        "# Prediksi (menghasilkan nilai probabilitas)\n",
        "y_probs = model.predict(X_test)\n",
        "\n",
        "# Konversi ke 0 atau 1 dengan ambang batas 0.5\n",
        "y_pred = (y_probs > 0.5).astype(\"int32\")\n",
        "\n",
        "# Pastikan bentuknya 1D (kadang keluar sebagai array 2D)\n",
        "y_pred = y_pred.flatten()\n",
        "\n",
        "# Evaluasi Klasifikasi\n",
        "print(\"=== Classification Report ===\")\n",
        "print(classification_report(y_test, y_pred, zero_division=0))  # Hindari warning 0/0\n",
        "\n",
        "# Akurasi\n",
        "print(f\"Accuracy: {accuracy_score(y_test, y_pred):.2f}\")\n",
        "\n",
        "# Confusion Matrix\n",
        "cm = confusion_matrix(y_test, y_pred)\n",
        "\n",
        "# Visualisasi Confusion Matrix\n",
        "plt.figure(figsize=(6, 4))\n",
        "sns.heatmap(cm, annot=True, fmt='d', cmap='Blues', xticklabels=['Tepat Waktu', 'Terlambat'], yticklabels=['Tepat Waktu', 'Terlambat'])\n",
        "plt.xlabel('Predicted')\n",
        "plt.ylabel('Actual')\n",
        "plt.title('Confusion Matrix')\n",
        "plt.show()\n"
      ],
      "metadata": {
        "colab": {
          "base_uri": "https://localhost:8080/",
          "height": 618
        },
        "id": "5TaAm6vj7RF4",
        "outputId": "d5864812-bbeb-4fab-fe11-c25e876ecc20"
      },
      "execution_count": 10,
      "outputs": [
        {
          "output_type": "stream",
          "name": "stdout",
          "text": [
            "\u001b[1m2/2\u001b[0m \u001b[32m━━━━━━━━━━━━━━━━━━━━\u001b[0m\u001b[37m\u001b[0m \u001b[1m0s\u001b[0m 62ms/step\n",
            "=== Classification Report ===\n",
            "              precision    recall  f1-score   support\n",
            "\n",
            "           0       0.68      1.00      0.81        27\n",
            "           1       0.00      0.00      0.00        13\n",
            "\n",
            "    accuracy                           0.68        40\n",
            "   macro avg       0.34      0.50      0.40        40\n",
            "weighted avg       0.46      0.68      0.54        40\n",
            "\n",
            "Accuracy: 0.68\n"
          ]
        },
        {
          "output_type": "display_data",
          "data": {
            "text/plain": [
              "<Figure size 600x400 with 2 Axes>"
            ],
            "image/png": "[encoded data removed]"
          },
          "metadata": {}
        }
      ]
    }
  ]
}